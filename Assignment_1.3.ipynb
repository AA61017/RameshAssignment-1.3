{
 "cells": [
  {
   "cell_type": "code",
   "execution_count": 3,
   "metadata": {},
   "outputs": [
    {
     "name": "stdout",
     "output_type": "stream",
     "text": [
      "Input the First Name: Ramesh\n",
      "Input the Last Name: Naik\n",
      "First and last name Before reverse :  Ramesh Naik\n",
      "First and last name After reverse :  hsemaR kiaN\n"
     ]
    }
   ],
   "source": [
    "# Program to accept the user's first and last name and then getting them\n",
    "# printed in the the reverse order with a space between first name and last name.\n",
    "\n",
    "# Take input for First Name\n",
    "fName = str(input(\"Input the First Name: \"))\n",
    "\n",
    "# Take input for Last Name\n",
    "lName = str(input(\"Input the Last Name: \"))\n",
    "\n",
    "print('First and last name Before reverse : ', fName+' '+ lName)\n",
    "\n",
    "rFName = fName[::-1]\n",
    "rLName = lName[::-1]\n",
    "\n",
    "print('First and last name After reverse : ', rFName+' '+ rLName)"
   ]
  },
  {
   "cell_type": "code",
   "execution_count": null,
   "metadata": {},
   "outputs": [],
   "source": []
  }
 ],
 "metadata": {
  "kernelspec": {
   "display_name": "Python 3",
   "language": "python",
   "name": "python3"
  },
  "language_info": {
   "codemirror_mode": {
    "name": "ipython",
    "version": 3
   },
   "file_extension": ".py",
   "mimetype": "text/x-python",
   "name": "python",
   "nbconvert_exporter": "python",
   "pygments_lexer": "ipython3",
   "version": "3.6.4"
  }
 },
 "nbformat": 4,
 "nbformat_minor": 2
}
